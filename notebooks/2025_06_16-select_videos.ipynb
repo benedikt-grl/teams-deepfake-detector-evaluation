{
 "cells": [
  {
   "cell_type": "code",
   "execution_count": 1,
   "id": "96f1bd47-057d-4c32-9240-6d6981756e7a",
   "metadata": {},
   "outputs": [],
   "source": [
    "import pandas as pd\n",
    "import numpy as np\n",
    "import ipdb\n",
    "\n",
    "\n",
    "all_videos_csv = \"../assets/training_data_20250710_103210_ffprobe_metadata_vfr.csv\"\n",
    "val_participants_txt = \"../assets/val_split.txt\""
   ]
  },
  {
   "cell_type": "code",
   "execution_count": 2,
   "id": "e67ca91b-faae-44ca-b557-2134ddaf95e4",
   "metadata": {},
   "outputs": [],
   "source": [
    "all_videos_df = pd.read_csv(all_videos_csv)\n",
    "val_participants = set(pd.read_csv(val_participants_txt, header=None, names=[\"participant\"])[\"participant\"])"
   ]
  },
  {
   "cell_type": "code",
   "execution_count": 3,
   "id": "89f8cdee-b6b5-44a4-9e4a-d79f7f0d9563",
   "metadata": {},
   "outputs": [],
   "source": [
    "available_videos_df = all_videos_df[\n",
    "    all_videos_df[\"participant_id\"].isin(val_participants) &\n",
    "    all_videos_df[\"modifiers\"].isin({\"raw\", \"facefusion-v1\", \"facefusion-identity-swap-v1\"}) &\n",
    "    (all_videos_df[\"resolution\"] == \"1280x720\") &\n",
    "    (all_videos_df[\"video_codec_original\"] == \"h264\")\n",
    "]"
   ]
  },
  {
   "cell_type": "code",
   "execution_count": 4,
   "id": "88636856-e382-4009-b551-e01257548828",
   "metadata": {},
   "outputs": [
    {
     "name": "stdout",
     "output_type": "stream",
     "text": [
      "Duration: 5.054677292777779 hours\n"
     ]
    },
    {
     "name": "stderr",
     "output_type": "stream",
     "text": [
      "/tmp/ipykernel_88330/3428782996.py:18: DeprecationWarning: DataFrameGroupBy.apply operated on the grouping columns. This behavior is deprecated, and in a future version of pandas the grouping columns will be excluded from the operation. Either pass `include_groups=False` to exclude the groupings or explicitly select the grouping columns after groupby to silence this warning.\n",
      "  selected_videos_df = available_videos_df.groupby(\"item_id\", as_index=False, sort=False).apply(\n"
     ]
    }
   ],
   "source": [
    "# Keep only those rows where we have a real and a fake version\n",
    "candidate_item_ids = set(available_videos_df[available_videos_df[\"modifiers\"] == \"raw\"][\"item_id\"])\n",
    "available_videos_df = available_videos_df[available_videos_df[\"item_id\"].isin(candidate_item_ids)]\n",
    "\n",
    "def select_pair(g: pd.DataFrame) -> pd.DataFrame:\n",
    "    if len(g) < 2:\n",
    "        # invalid group\n",
    "        return None\n",
    "        \n",
    "    real_mask = g[\"modifiers\"] == \"raw\"\n",
    "    assert real_mask.sum() == 1\n",
    "    \n",
    "    real_row_idx = g[real_mask].index[0]\n",
    "    fake_row_idx = g[~real_mask].sample(1, random_state=g.loc[real_row_idx, \"participant_id\"]).index[0]\n",
    "\n",
    "    return g.loc[[real_row_idx, fake_row_idx]]\n",
    "\n",
    "selected_videos_df = available_videos_df.groupby(\"item_id\", as_index=False, sort=False).apply(\n",
    "    lambda g: select_pair(g), include_groups=True).reset_index(drop=True)\n",
    "\n",
    "assert np.all(selected_videos_df.value_counts(\"item_id\") == 2)\n",
    "\n",
    "# Select a subset of the dataframe\n",
    "rng = np.random.default_rng(2000)\n",
    "selected_item_ids = rng.choice(selected_videos_df[\"item_id\"].unique(), size=200, replace=False)\n",
    "\n",
    "selected_videos_df = selected_videos_df[selected_videos_df[\"item_id\"].isin(selected_item_ids)]\n",
    "\n",
    "print(f\"Duration: {selected_videos_df[\"duration\"].sum() / 60 / 60} hours\")"
   ]
  },
  {
   "cell_type": "code",
   "execution_count": 5,
   "id": "0f75680d-3efd-45ed-87f4-21b85df65392",
   "metadata": {},
   "outputs": [
    {
     "data": {
      "text/plain": [
       "resolution  video_codec_original  pix_fmt   modifiers                  \n",
       "1280x720    h264                  yuvj420p  raw                            150\n",
       "                                  yuv420p   facefusion-v1                  140\n",
       "                                            facefusion-identity-swap-v1     60\n",
       "                                            raw                             50\n",
       "Name: count, dtype: int64"
      ]
     },
     "execution_count": 5,
     "metadata": {},
     "output_type": "execute_result"
    }
   ],
   "source": [
    "selected_videos_df[[\"resolution\", \"video_codec_original\", \"pix_fmt\", \"modifiers\"]].value_counts()"
   ]
  },
  {
   "cell_type": "code",
   "execution_count": 6,
   "id": "b49b8343-1bfc-4dc4-b800-22c76159d3c2",
   "metadata": {},
   "outputs": [],
   "source": [
    "selected_videos_df.to_csv(\"../assets/2025_07_16-selected_videos.csv\", index=False)"
   ]
  },
  {
   "cell_type": "code",
   "execution_count": null,
   "id": "374c55fc-46d9-43fe-8651-0c4bc15cbea0",
   "metadata": {},
   "outputs": [],
   "source": []
  }
 ],
 "metadata": {
  "kernelspec": {
   "display_name": "Python 3 (ipykernel)",
   "language": "python",
   "name": "python3"
  },
  "language_info": {
   "codemirror_mode": {
    "name": "ipython",
    "version": 3
   },
   "file_extension": ".py",
   "mimetype": "text/x-python",
   "name": "python",
   "nbconvert_exporter": "python",
   "pygments_lexer": "ipython3",
   "version": "3.12.3"
  }
 },
 "nbformat": 4,
 "nbformat_minor": 5
}
